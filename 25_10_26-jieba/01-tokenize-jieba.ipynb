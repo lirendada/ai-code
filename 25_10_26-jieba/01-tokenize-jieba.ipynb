{
 "cells": [
  {
   "cell_type": "code",
   "id": "initial_id",
   "metadata": {
    "collapsed": true,
    "ExecuteTime": {
     "end_time": "2025-10-27T01:41:34.233118Z",
     "start_time": "2025-10-27T01:41:34.136796Z"
    }
   },
   "source": [
    "import jieba\n",
    "\n",
    "text = \"小明毕业于北京大学计算系\""
   ],
   "outputs": [
    {
     "name": "stderr",
     "output_type": "stream",
     "text": [
      "D:\\Anaconda_envs\\envs\\nlp\\Lib\\site-packages\\jieba\\_compat.py:18: UserWarning: pkg_resources is deprecated as an API. See https://setuptools.pypa.io/en/latest/pkg_resources.html. The pkg_resources package is slated for removal as early as 2025-11-30. Refrain from using this package or pin to Setuptools<81.\n",
      "  import pkg_resources\n"
     ]
    }
   ],
   "execution_count": 1
  },
  {
   "metadata": {
    "ExecuteTime": {
     "end_time": "2025-10-27T01:41:43.498045Z",
     "start_time": "2025-10-27T01:41:43.035582Z"
    }
   },
   "cell_type": "code",
   "source": [
    "# 1. 精确模式\n",
    "words_generator = jieba.cut(text)\n",
    "for word in words_generator:\n",
    "    print(word)\n",
    "\n",
    "words_list = jieba.lcut(text)\n",
    "print(words_list)"
   ],
   "id": "b851546a3e103bf0",
   "outputs": [
    {
     "name": "stderr",
     "output_type": "stream",
     "text": [
      "Building prefix dict from the default dictionary ...\n",
      "Loading model from cache C:\\Users\\liren\\AppData\\Local\\Temp\\jieba.cache\n",
      "Loading model cost 0.455 seconds.\n",
      "Prefix dict has been built successfully.\n"
     ]
    },
    {
     "name": "stdout",
     "output_type": "stream",
     "text": [
      "小明\n",
      "毕业\n",
      "于\n",
      "北京大学\n",
      "计算\n",
      "系\n",
      "['小明', '毕业', '于', '北京大学', '计算', '系']\n"
     ]
    }
   ],
   "execution_count": 2
  },
  {
   "metadata": {
    "ExecuteTime": {
     "end_time": "2025-10-27T01:41:52.616136Z",
     "start_time": "2025-10-27T01:41:52.612136Z"
    }
   },
   "cell_type": "code",
   "source": [
    "# 2. 全模式\n",
    "all_words_list = jieba.lcut(text, cut_all=True)\n",
    "print(all_words_list)"
   ],
   "id": "a1015a6c1d11444c",
   "outputs": [
    {
     "name": "stdout",
     "output_type": "stream",
     "text": [
      "['小', '明', '毕业', '于', '北京', '北京大学', '大学', '计算', '系']\n"
     ]
    }
   ],
   "execution_count": 3
  },
  {
   "metadata": {
    "ExecuteTime": {
     "end_time": "2025-10-27T01:41:58.583811Z",
     "start_time": "2025-10-27T01:41:58.578943Z"
    }
   },
   "cell_type": "code",
   "source": [
    "# 3. 搜索引擎模式\n",
    "search_words_list = jieba.lcut_for_search(text)\n",
    "print(search_words_list)"
   ],
   "id": "be87b03f364bbbef",
   "outputs": [
    {
     "name": "stdout",
     "output_type": "stream",
     "text": [
      "['小明', '毕业', '于', '北京', '大学', '北京大学', '计算', '系']\n"
     ]
    }
   ],
   "execution_count": 4
  },
  {
   "metadata": {
    "ExecuteTime": {
     "end_time": "2025-10-27T01:42:02.505327Z",
     "start_time": "2025-10-27T01:42:02.500809Z"
    }
   },
   "cell_type": "code",
   "source": [
    "# 4. 自定义\n",
    "jieba.load_userdict(\"./data/dict.txt\")\n",
    "longtext = \"随着云计算技术的普及，越来越多企业开始采用云原生架构来部署服务，并借助大模型能力提升智能化水平，实现业务流程的自动化与智能决策。\"\n",
    "print(jieba.lcut(longtext))"
   ],
   "id": "34f3c179fd04d183",
   "outputs": [
    {
     "name": "stdout",
     "output_type": "stream",
     "text": [
      "['随着', '云计算', '技术', '的', '普及', '，', '越来越', '多', '企业', '开始', '采用', '云原生', '架构', '来', '部署', '服务', '，', '并', '借助', '大模型', '能力', '提升', '智能化', '水平', '，', '实现', '业务流程', '的', '自动化', '与', '智能', '决策', '。']\n"
     ]
    }
   ],
   "execution_count": 5
  }
 ],
 "metadata": {
  "kernelspec": {
   "display_name": "Python 3",
   "language": "python",
   "name": "python3"
  },
  "language_info": {
   "codemirror_mode": {
    "name": "ipython",
    "version": 2
   },
   "file_extension": ".py",
   "mimetype": "text/x-python",
   "name": "python",
   "nbconvert_exporter": "python",
   "pygments_lexer": "ipython2",
   "version": "2.7.6"
  }
 },
 "nbformat": 4,
 "nbformat_minor": 5
}
